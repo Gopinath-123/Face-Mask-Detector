{
 "cells": [
  {
   "cell_type": "markdown",
   "id": "711fa5a3",
   "metadata": {},
   "source": [
    "<h1 align='center'>Mask Detection using python openCV"
   ]
  },
  {
   "cell_type": "markdown",
   "id": "27183391",
   "metadata": {},
   "source": [
    "\n"
   ]
  },
  {
   "cell_type": "markdown",
   "id": "256a905c",
   "metadata": {},
   "source": [
    "_Importing the necessary libraries_"
   ]
  },
  {
   "cell_type": "code",
   "execution_count": 1,
   "id": "d634ef3c",
   "metadata": {},
   "outputs": [],
   "source": [
    "import cv2\n",
    "import os\n",
    "from tensorflow.keras.preprocessing.image import img_to_array\n",
    "from tensorflow.keras.models import load_model\n",
    "from tensorflow.keras.applications.mobilenet_v2 import preprocess_input\n",
    "import numpy as np\n",
    " "
   ]
  },
  {
   "cell_type": "markdown",
   "id": "1a24d78e",
   "metadata": {},
   "source": [
    "_Frontal face recognition using Haar Classifier of keras_"
   ]
  },
  {
   "cell_type": "code",
   "execution_count": 2,
   "id": "477142ed",
   "metadata": {},
   "outputs": [],
   "source": [
    "cascPath = os.path.dirname(cv2.__file__) + \"/data/haarcascade_frontalface_alt2.xml\"\n",
    "faceCascade = cv2.CascadeClassifier(cascPath)\n"
   ]
  },
  {
   "cell_type": "markdown",
   "id": "c9ae6d5f",
   "metadata": {},
   "source": [
    "_Loading the pre-trained model which classifies mask/without mask_"
   ]
  },
  {
   "cell_type": "code",
   "execution_count": 3,
   "id": "3263b361",
   "metadata": {},
   "outputs": [],
   "source": [
    "model = load_model(\"mask_detector_model.h5\")"
   ]
  },
  {
   "cell_type": "code",
   "execution_count": null,
   "id": "14586c4a",
   "metadata": {},
   "outputs": [],
   "source": [
    " \n",
    "video_capture = cv2.VideoCapture(0)\n",
    "\n",
    "while True:\n",
    "    try:\n",
    "        # Capture frame-by-frame\n",
    "        ret, frame = video_capture.read()\n",
    "        gray = cv2.cvtColor(frame, cv2.COLOR_BGR2GRAY)\n",
    "        faces = faceCascade.detectMultiScale(gray,\n",
    "                                         scaleFactor=1.1,\n",
    "                                         minNeighbors=5,\n",
    "                                         minSize=(60, 60),\n",
    "                                         flags=cv2.CASCADE_SCALE_IMAGE)\n",
    "        faces_scaled=[]\n",
    "        preds=[]\n",
    "        for (x, y, w, h) in faces:\n",
    "            face_frame = frame[y:y+h,x:x+w]\n",
    "            face_frame = cv2.cvtColor(face_frame, cv2.COLOR_BGR2RGB)\n",
    "            face_frame = cv2.resize(face_frame, (224, 224))\n",
    "            face_frame = img_to_array(face_frame)\n",
    "            face_frame = np.expand_dims(face_frame, axis=0)\n",
    "            face_frame =  preprocess_input(face_frame)\n",
    "            faces_scaled.append(face_frame)\n",
    "\n",
    "        for i in faces_scaled:\n",
    "            prediction = model.predict(i)\n",
    "            preds.append(prediction)\n",
    "            \n",
    "        for i,(x,y,w,h) in enumerate(faces):\n",
    "            (mask, withoutMask) = preds[i][0]\n",
    "            \n",
    "            \n",
    "            if mask > withoutMask :\n",
    "                label = \"Mask on\" \n",
    "                color = (0, 255, 0) \n",
    "            else:\n",
    "                label = \"Please wear a Mask\"\n",
    "                color = (0, 0, 255)\n",
    "    \n",
    "            cv2.rectangle(frame, (x, y), (x + w, y + h),color, 2)\n",
    "    \n",
    "            cv2.putText(frame, label, (x, y- 10),cv2.FONT_HERSHEY_SIMPLEX, 0.75, color, 2)\n",
    " \n",
    "            \n",
    "        \n",
    "        cv2.imshow('Video', frame)\n",
    "        \n",
    "        if cv2.waitKey(1) & 0xFF == ord('c'):\n",
    "            break\n",
    "    except:\n",
    "        pass\n",
    "\n",
    "video_capture.release()\n",
    "cv2.destroyAllWindows()"
   ]
  },
  {
   "cell_type": "code",
   "execution_count": null,
   "id": "4eb94838",
   "metadata": {},
   "outputs": [],
   "source": []
  },
  {
   "cell_type": "code",
   "execution_count": null,
   "id": "0bbeb631",
   "metadata": {},
   "outputs": [],
   "source": []
  },
  {
   "cell_type": "code",
   "execution_count": null,
   "id": "3b2f485a",
   "metadata": {},
   "outputs": [],
   "source": []
  }
 ],
 "metadata": {
  "kernelspec": {
   "display_name": "Python 3",
   "language": "python",
   "name": "python3"
  },
  "language_info": {
   "codemirror_mode": {
    "name": "ipython",
    "version": 3
   },
   "file_extension": ".py",
   "mimetype": "text/x-python",
   "name": "python",
   "nbconvert_exporter": "python",
   "pygments_lexer": "ipython3",
   "version": "3.8.8"
  }
 },
 "nbformat": 4,
 "nbformat_minor": 5
}
